{
 "cells": [
  {
   "cell_type": "markdown",
   "metadata": {},
   "source": [
    "## 1. INTRODUCCIÓN"
   ]
  },
  {
   "cell_type": "markdown",
   "metadata": {},
   "source": [
    "El crecimiento y desarrollo de la planta está regulado por factores internos y externos. Las condiciones ambientales determinan la expresión de difernetes factores ambientales por lo que entre dos plantas que presenten el mismo genotipo puede haber diferencias fenotípicas. En la respuesta a factores ambientales están involucradas principalmente por hormonas como las auxinas, giberelinas, citoquininas y brasinosteroides; en concreto, la auxina resulta esencial en la respuesta a factores como el fototropismo y el gravitropismo.\n",
    "\n",
    "Se ha demostrado que la **familia SAUR** (Small Auxin-Uprgulated RNAs) responde de forma muy efectiva a estimulos hormonales. En Arabidopsis thaliana (A. thaliana) se ha descubierto que está familia contiene 79 genes, estando dos tercios de ellos implicados en la respuesta a auxina en determinados tejidos. La expresión de los genes de la familia SAUR da como resultado proteínas que interactúan con proteínas fosfatasas de la familia PP2C-D, inhibiendo su función e impidiendo por tanto la desfosforilación de las ATPasas de protones. Esto provoca una acidificación de la membrana que permite la elongación celular.\n",
    "\n",
    "Además de responder a hormonas, SAUR también responde a factores de transcripción involucrados en el crecimiento como el dominio FRUITFULL (FUL) del factor MADS. FUL regula el desarrollo del fruto en A. thaliana y determina tanto el crecimiento como el patrón que sigue el fruto. Los mutantes ful presentan un retraso en la floración y una alteración en la forma de la planta. Se han idenficiado dos genes de la familia SAUR diana del factor FUL, por lo que puede ser que este factor transcripcional no solo esté implicado en el desarrollo del fruto, sino que también presente la capacidad de de regular de forma directa genes implicados en la elongación inducida por luz y hormonas."
   ]
  },
  {
   "cell_type": "markdown",
   "metadata": {},
   "source": [
    "### 1.2. OBJETIVOS"
   ]
  },
  {
   "cell_type": "markdown",
   "metadata": {},
   "source": [
    "El objetivo principal del traajo es mostar que el factor de transcripción FUL es un regulador pleitrópico del desarrollo vegetal, jugando un papel importante en el desarrollo y la arquitectura de la planta, además de su función ya conocida relacionada con el desarrollo del fruto y del tiempo de floración."
   ]
  },
  {
   "cell_type": "markdown",
   "metadata": {},
   "source": [
    "### 1.3. DISEÑO EXPERIMENTAL"
   ]
  },
  {
   "cell_type": "markdown",
   "metadata": {},
   "source": [
    "Para determinar el papel del factor transcriocional FRUITFULL (FUL) en el desarrollo del pistilo y la silicua se llevó a cabo un experimento de Chip-seq para identificar dianas directas de FUL. Para ello contamos con dos réplicas biológicas con su correspondiente input como control. Las librerías se prepararon usando el protocolo _Illumina_ para preparación de librerías de ChIP-Seq propuesto por Kaufman et al. (Kaufman et al., Nature Protocols 2010).\n",
    "\n",
    "#### Chip: \n",
    "Las plantas se cultivaron a 22ºC en condiciones de día largo (16 h de luz y 8 h de oscuridad) y se recolectaron en el estadío de 12-16 semanas. Para cada réplica se usó aproximadamente 1g de tejido. La secuenciación se llevó a caba usando el protocolo de Illumina para la preparación de ChIP-SEQ. \n",
    "\n",
    "La inmunoprecipitación de la cromatina se realizó con una línea transformada con GFP haciendo uso de anticuerpos espécificos frente a esta proteína, seguido de una secuenciación para determinar los sitios de unión a escala genómica. Esto se llevó a cabo siguiendo el protocolo mencionado anteriormente. \n",
    "\n",
    "#### Input:\n",
    "Las muestras input se usan como control negativo. El cultivo de las plantas usadas como input se llevó a cabo de forma idéntica a las uadas como chip. Para la inmunoprecipitación de la cromatina no se usaron anticuerpos específicos. \n",
    "\n"
   ]
  },
  {
   "cell_type": "markdown",
   "metadata": {},
   "source": [
    "## 2. ANÁLISIS DE CALIDAD"
   ]
  },
  {
   "cell_type": "markdown",
   "metadata": {},
   "source": [
    "Análisis de la calidadCuando lanzamos el fichero index vamos a recibir de vuelta, entre otras cosas, archivos con la información de la calidad en formato html. Estos archivos\n",
    "contienen el índice de calidad de las muestras analizado en formato **FastQC**. Estos archivos tienen todos el mismo formato, y proporcionan la misma\n",
    "información. \n",
    "\n",
    "El análisis de calidad que hace el fichero FastQC es en función a diferentes parámetros:\n",
    "\t\t\n",
    "- **Basic statistics**. Informa el nombre del fichero que se ha procesado, el tipo de fichero, el número total de secuencias que han sido analizadas, la longitud en bases de cada secuencia y el porcentaje del contenido en GC.\n",
    "\t\t\n",
    "- **Calidad de la secuencia por bases**. Este gráfico toma valores en el eje X desde 0 hasta el número total de bases que contiene una secuencia (que lo podíamos ver en el parámetro anterior) y en el eje Y la calidad. Se representa un gráfico tipo boxplot donde cada caja representa las primeras basas del número total de lecturas que se realizaron. En función a la franja en la que se encuentren las cajas del boxplot, la calidad de la muestra será diferente, siendo óptima en color verde y deficiente en amarillo y rojo. \n",
    "\t\t\n",
    "- **Contenido de bases por cada posición**. Lo que se espera es que el contenido en bases (A, T, C y G) correspondiente al que se observa en el genoma del organismo. En nuestro caso, *Arabidopsis thaliana* tiene más alto contenido en AT que en GC. Si esto no sale así y en su lugar se obtienen porcentajes altos de GC lo que se demuestra es que no estamos trabajando con secuencias de nuestro organismo, sino que las muestras se han contaminado. Cabe mencionar que al principio de las lecturas se observa una distorsión común, que hace que este parámetro siempre tenga baja calidad, y que corresponde con el adaptador que se pega en el extremo 5' para realizar la secuenciación. Para eliminar el adaptador del extremo 3' nunca hay problemas, no así en el extremo 5', en cuyo caso aparecen distorsiones. \n",
    "\n",
    "En función de la calidad de las muestras, los parámetros tendrán color verde (buena calidad) y amarillo o rojo (media/mala calidad).\n",
    "\n",
    "### **Análisis de calidad para chip1:**"
   ]
  },
  {
   "cell_type": "markdown",
   "metadata": {},
   "source": [
    "<img src=\"img/chip1_1.png\" alt=\"Drawing\" style=\"width: 1000px;\"/>\n",
    "<img src=\"img/chip1_2.png\" alt=\"Drawing\" style=\"width: 500px;\"/>"
   ]
  },
  {
   "cell_type": "markdown",
   "metadata": {},
   "source": [
    "### **Análisis de calidad para chip2:**"
   ]
  },
  {
   "cell_type": "markdown",
   "metadata": {},
   "source": [
    "<img src=\"img/chip1_1.png\" alt=\"Drawing\" style=\"width: 1000px;\"/>\n",
    "<img src=\"img/chip1_2.png\" alt=\"Drawing\" style=\"width: 500px;\"/>"
   ]
  },
  {
   "cell_type": "markdown",
   "metadata": {},
   "source": [
    "### **Análisis calidad input1:**"
   ]
  },
  {
   "cell_type": "markdown",
   "metadata": {},
   "source": [
    "<img src=\"img/input1_1.png\" alt=\"Drawing\" style=\"width: 1000px;\"/>\n",
    "<img src=\"img/input1_2.png\" alt=\"Drawing\" style=\"width: 500px;\"/>"
   ]
  },
  {
   "cell_type": "markdown",
   "metadata": {},
   "source": [
    "### **Análisis calidad input2:**"
   ]
  },
  {
   "cell_type": "markdown",
   "metadata": {},
   "source": [
    "<img src=\"img/input2_1.png\" alt=\"Drawing\" style=\"width: 1000px;\"/>\n",
    "<img src=\"img/input2_2.png\" alt=\"Drawing\" style=\"width: 500px;\"/>"
   ]
  },
  {
   "cell_type": "markdown",
   "metadata": {},
   "source": [
    "## 3. PROCESAMIENTO DE LAS MUESTRAS Y DETERMINACIÓN DE LAS DIANAS"
   ]
  },
  {
   "cell_type": "markdown",
   "metadata": {},
   "source": [
    "### 3.1. FLUJO DE TRABAJO\n",
    "\n",
    "#### 3.1.1. Construcción del índice de referencia del genoma de referencia\n",
    "\n",
    "En primer lugar, es necesario descargar el genoma de referencia y el fichero de anotación de *Ensembl plants* y  se guarda en sus respectivas carpetas. \n",
    "Para descargar el genoma de referencia, construir su índice y descargar la anotación se utilizó la función _bowtie2-build_\n",
    "\n",
    "\n",
    "\n",
    "\n",
    "\n",
    "\n"
   ]
  },
  {
   "cell_type": "markdown",
   "metadata": {},
   "source": [
    "### 3.2 DETERMINACIÓN DE PICOS (IGV)"
   ]
  },
  {
   "cell_type": "markdown",
   "metadata": {},
   "source": [
    "### 3.3 MOTIVOS GÉNICOS\n",
    "\n",
    "Los motivos de secuencia son patrones cortos de DNA que tienen función biológica. A menudo indican sitios específicos de unión a proteínas como nucleasas o factores de transcripción.\n",
    "\n",
    "A continuación se adjuntan los motivos génicos encontrados para ambas réplicas:\n",
    "\n",
    "#### **RÉPLICA 1**\n",
    "\n",
    "Los resultados obtenidos fueron los siguientes:\n",
    "\n",
    "[Primera réplica](HOMER_PEAK1/homerResults.html)\n",
    "\n",
    "<img src=\"img/homer_1.png\" alt=\"Drawing\" style=\"width: 1500px;\"/>\n",
    "\n",
    "Haciendo uso de la herramienta [Uniprot] (https://www.uniprot.org/) podemos determinar la función de estos genes. Aquí mostramos algunos. \n",
    "\n",
    "- **REPLUMLESS** Factor de transcripción implicado en el desarrollo del meristemo, la inflorescencia y el desarrollo del fruto. \n",
    "- **DYT1** Factor transcipcional implicado en el desarrollo del tapete. Determina la fertilidad del polen y su diferenciación.\n",
    "\n",
    "\n",
    "**RÉPLICA 2**\n",
    "\n",
    "Los resultados obtenidos fueron los siguientes:\n",
    "\n",
    "[Segunda réplica](HOMER_2/homerResults.html)\n",
    "\n",
    "<img src=\"img/homer_2.png\" alt=\"Drawing\" style=\"width: 1000px;\"/>\n",
    "\n",
    "\n",
    "Al igual que en caso anterior las funciones son las siguientes:\n",
    "\n"
   ]
  },
  {
   "cell_type": "markdown",
   "metadata": {},
   "source": [
    "### 3.4 EXPRESIÓN DIFERENCIAL DE GENES\n"
   ]
  },
  {
   "cell_type": "markdown",
   "metadata": {},
   "source": [
    "## 4. CONCLUSIONES"
   ]
  },
  {
   "cell_type": "markdown",
   "metadata": {},
   "source": [
    "## 5. REFERENCIA\n",
    "- paper \n",
    "- diapos de fran\n",
    "- trabajo en sge (tutorial youtube)\n",
    "- paquetes de R\n",
    "- citar jupyter y python\n",
    "- citar igv"
   ]
  }
 ],
 "metadata": {
  "kernelspec": {
   "display_name": "R",
   "language": "R",
   "name": "ir"
  },
  "language_info": {
   "codemirror_mode": "r",
   "file_extension": ".r",
   "mimetype": "text/x-r-source",
   "name": "R",
   "pygments_lexer": "r",
   "version": "3.6.1"
  }
 },
 "nbformat": 4,
 "nbformat_minor": 2
}
